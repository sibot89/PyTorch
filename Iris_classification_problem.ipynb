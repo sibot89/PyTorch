{
  "nbformat": 4,
  "nbformat_minor": 0,
  "metadata": {
    "colab": {
      "provenance": [],
      "authorship_tag": "ABX9TyMLqWQhzaQUnQAxyDxD3TFE",
      "include_colab_link": true
    },
    "kernelspec": {
      "name": "python3",
      "display_name": "Python 3"
    },
    "language_info": {
      "name": "python"
    }
  },
  "cells": [
    {
      "cell_type": "markdown",
      "metadata": {
        "id": "view-in-github",
        "colab_type": "text"
      },
      "source": [
        "<a href=\"https://colab.research.google.com/github/sibot89/PyTorch/blob/main/Iris_classification_problem.ipynb\" target=\"_parent\"><img src=\"https://colab.research.google.com/assets/colab-badge.svg\" alt=\"Open In Colab\"/></a>"
      ]
    },
    {
      "cell_type": "code",
      "execution_count": 53,
      "metadata": {
        "id": "-F9QIkbbKHsu"
      },
      "outputs": [],
      "source": [
        "import numpy as np\n",
        "import pandas as pd\n",
        "import matplotlib.pyplot as plt\n",
        "\n",
        "from sklearn.model_selection import train_test_split\n",
        "from sklearn.preprocessing import StandardScaler\n",
        "from sklearn import datasets\n",
        "\n",
        "import torch\n",
        "from torch.utils.data import TensorDataset, DataLoader\n",
        "import torch.nn as nn\n",
        "from torch.optim import SGD"
      ]
    },
    {
      "cell_type": "code",
      "source": [
        "iris = datasets.load_iris()\n",
        "iris"
      ],
      "metadata": {
        "colab": {
          "base_uri": "https://localhost:8080/"
        },
        "id": "pf357l41Ktiv",
        "outputId": "ed9d215b-f9ea-4769-aade-104e087f17d4"
      },
      "execution_count": 54,
      "outputs": [
        {
          "output_type": "execute_result",
          "data": {
            "text/plain": [
              "{'data': array([[5.1, 3.5, 1.4, 0.2],\n",
              "        [4.9, 3. , 1.4, 0.2],\n",
              "        [4.7, 3.2, 1.3, 0.2],\n",
              "        [4.6, 3.1, 1.5, 0.2],\n",
              "        [5. , 3.6, 1.4, 0.2],\n",
              "        [5.4, 3.9, 1.7, 0.4],\n",
              "        [4.6, 3.4, 1.4, 0.3],\n",
              "        [5. , 3.4, 1.5, 0.2],\n",
              "        [4.4, 2.9, 1.4, 0.2],\n",
              "        [4.9, 3.1, 1.5, 0.1],\n",
              "        [5.4, 3.7, 1.5, 0.2],\n",
              "        [4.8, 3.4, 1.6, 0.2],\n",
              "        [4.8, 3. , 1.4, 0.1],\n",
              "        [4.3, 3. , 1.1, 0.1],\n",
              "        [5.8, 4. , 1.2, 0.2],\n",
              "        [5.7, 4.4, 1.5, 0.4],\n",
              "        [5.4, 3.9, 1.3, 0.4],\n",
              "        [5.1, 3.5, 1.4, 0.3],\n",
              "        [5.7, 3.8, 1.7, 0.3],\n",
              "        [5.1, 3.8, 1.5, 0.3],\n",
              "        [5.4, 3.4, 1.7, 0.2],\n",
              "        [5.1, 3.7, 1.5, 0.4],\n",
              "        [4.6, 3.6, 1. , 0.2],\n",
              "        [5.1, 3.3, 1.7, 0.5],\n",
              "        [4.8, 3.4, 1.9, 0.2],\n",
              "        [5. , 3. , 1.6, 0.2],\n",
              "        [5. , 3.4, 1.6, 0.4],\n",
              "        [5.2, 3.5, 1.5, 0.2],\n",
              "        [5.2, 3.4, 1.4, 0.2],\n",
              "        [4.7, 3.2, 1.6, 0.2],\n",
              "        [4.8, 3.1, 1.6, 0.2],\n",
              "        [5.4, 3.4, 1.5, 0.4],\n",
              "        [5.2, 4.1, 1.5, 0.1],\n",
              "        [5.5, 4.2, 1.4, 0.2],\n",
              "        [4.9, 3.1, 1.5, 0.2],\n",
              "        [5. , 3.2, 1.2, 0.2],\n",
              "        [5.5, 3.5, 1.3, 0.2],\n",
              "        [4.9, 3.6, 1.4, 0.1],\n",
              "        [4.4, 3. , 1.3, 0.2],\n",
              "        [5.1, 3.4, 1.5, 0.2],\n",
              "        [5. , 3.5, 1.3, 0.3],\n",
              "        [4.5, 2.3, 1.3, 0.3],\n",
              "        [4.4, 3.2, 1.3, 0.2],\n",
              "        [5. , 3.5, 1.6, 0.6],\n",
              "        [5.1, 3.8, 1.9, 0.4],\n",
              "        [4.8, 3. , 1.4, 0.3],\n",
              "        [5.1, 3.8, 1.6, 0.2],\n",
              "        [4.6, 3.2, 1.4, 0.2],\n",
              "        [5.3, 3.7, 1.5, 0.2],\n",
              "        [5. , 3.3, 1.4, 0.2],\n",
              "        [7. , 3.2, 4.7, 1.4],\n",
              "        [6.4, 3.2, 4.5, 1.5],\n",
              "        [6.9, 3.1, 4.9, 1.5],\n",
              "        [5.5, 2.3, 4. , 1.3],\n",
              "        [6.5, 2.8, 4.6, 1.5],\n",
              "        [5.7, 2.8, 4.5, 1.3],\n",
              "        [6.3, 3.3, 4.7, 1.6],\n",
              "        [4.9, 2.4, 3.3, 1. ],\n",
              "        [6.6, 2.9, 4.6, 1.3],\n",
              "        [5.2, 2.7, 3.9, 1.4],\n",
              "        [5. , 2. , 3.5, 1. ],\n",
              "        [5.9, 3. , 4.2, 1.5],\n",
              "        [6. , 2.2, 4. , 1. ],\n",
              "        [6.1, 2.9, 4.7, 1.4],\n",
              "        [5.6, 2.9, 3.6, 1.3],\n",
              "        [6.7, 3.1, 4.4, 1.4],\n",
              "        [5.6, 3. , 4.5, 1.5],\n",
              "        [5.8, 2.7, 4.1, 1. ],\n",
              "        [6.2, 2.2, 4.5, 1.5],\n",
              "        [5.6, 2.5, 3.9, 1.1],\n",
              "        [5.9, 3.2, 4.8, 1.8],\n",
              "        [6.1, 2.8, 4. , 1.3],\n",
              "        [6.3, 2.5, 4.9, 1.5],\n",
              "        [6.1, 2.8, 4.7, 1.2],\n",
              "        [6.4, 2.9, 4.3, 1.3],\n",
              "        [6.6, 3. , 4.4, 1.4],\n",
              "        [6.8, 2.8, 4.8, 1.4],\n",
              "        [6.7, 3. , 5. , 1.7],\n",
              "        [6. , 2.9, 4.5, 1.5],\n",
              "        [5.7, 2.6, 3.5, 1. ],\n",
              "        [5.5, 2.4, 3.8, 1.1],\n",
              "        [5.5, 2.4, 3.7, 1. ],\n",
              "        [5.8, 2.7, 3.9, 1.2],\n",
              "        [6. , 2.7, 5.1, 1.6],\n",
              "        [5.4, 3. , 4.5, 1.5],\n",
              "        [6. , 3.4, 4.5, 1.6],\n",
              "        [6.7, 3.1, 4.7, 1.5],\n",
              "        [6.3, 2.3, 4.4, 1.3],\n",
              "        [5.6, 3. , 4.1, 1.3],\n",
              "        [5.5, 2.5, 4. , 1.3],\n",
              "        [5.5, 2.6, 4.4, 1.2],\n",
              "        [6.1, 3. , 4.6, 1.4],\n",
              "        [5.8, 2.6, 4. , 1.2],\n",
              "        [5. , 2.3, 3.3, 1. ],\n",
              "        [5.6, 2.7, 4.2, 1.3],\n",
              "        [5.7, 3. , 4.2, 1.2],\n",
              "        [5.7, 2.9, 4.2, 1.3],\n",
              "        [6.2, 2.9, 4.3, 1.3],\n",
              "        [5.1, 2.5, 3. , 1.1],\n",
              "        [5.7, 2.8, 4.1, 1.3],\n",
              "        [6.3, 3.3, 6. , 2.5],\n",
              "        [5.8, 2.7, 5.1, 1.9],\n",
              "        [7.1, 3. , 5.9, 2.1],\n",
              "        [6.3, 2.9, 5.6, 1.8],\n",
              "        [6.5, 3. , 5.8, 2.2],\n",
              "        [7.6, 3. , 6.6, 2.1],\n",
              "        [4.9, 2.5, 4.5, 1.7],\n",
              "        [7.3, 2.9, 6.3, 1.8],\n",
              "        [6.7, 2.5, 5.8, 1.8],\n",
              "        [7.2, 3.6, 6.1, 2.5],\n",
              "        [6.5, 3.2, 5.1, 2. ],\n",
              "        [6.4, 2.7, 5.3, 1.9],\n",
              "        [6.8, 3. , 5.5, 2.1],\n",
              "        [5.7, 2.5, 5. , 2. ],\n",
              "        [5.8, 2.8, 5.1, 2.4],\n",
              "        [6.4, 3.2, 5.3, 2.3],\n",
              "        [6.5, 3. , 5.5, 1.8],\n",
              "        [7.7, 3.8, 6.7, 2.2],\n",
              "        [7.7, 2.6, 6.9, 2.3],\n",
              "        [6. , 2.2, 5. , 1.5],\n",
              "        [6.9, 3.2, 5.7, 2.3],\n",
              "        [5.6, 2.8, 4.9, 2. ],\n",
              "        [7.7, 2.8, 6.7, 2. ],\n",
              "        [6.3, 2.7, 4.9, 1.8],\n",
              "        [6.7, 3.3, 5.7, 2.1],\n",
              "        [7.2, 3.2, 6. , 1.8],\n",
              "        [6.2, 2.8, 4.8, 1.8],\n",
              "        [6.1, 3. , 4.9, 1.8],\n",
              "        [6.4, 2.8, 5.6, 2.1],\n",
              "        [7.2, 3. , 5.8, 1.6],\n",
              "        [7.4, 2.8, 6.1, 1.9],\n",
              "        [7.9, 3.8, 6.4, 2. ],\n",
              "        [6.4, 2.8, 5.6, 2.2],\n",
              "        [6.3, 2.8, 5.1, 1.5],\n",
              "        [6.1, 2.6, 5.6, 1.4],\n",
              "        [7.7, 3. , 6.1, 2.3],\n",
              "        [6.3, 3.4, 5.6, 2.4],\n",
              "        [6.4, 3.1, 5.5, 1.8],\n",
              "        [6. , 3. , 4.8, 1.8],\n",
              "        [6.9, 3.1, 5.4, 2.1],\n",
              "        [6.7, 3.1, 5.6, 2.4],\n",
              "        [6.9, 3.1, 5.1, 2.3],\n",
              "        [5.8, 2.7, 5.1, 1.9],\n",
              "        [6.8, 3.2, 5.9, 2.3],\n",
              "        [6.7, 3.3, 5.7, 2.5],\n",
              "        [6.7, 3. , 5.2, 2.3],\n",
              "        [6.3, 2.5, 5. , 1.9],\n",
              "        [6.5, 3. , 5.2, 2. ],\n",
              "        [6.2, 3.4, 5.4, 2.3],\n",
              "        [5.9, 3. , 5.1, 1.8]]),\n",
              " 'target': array([0, 0, 0, 0, 0, 0, 0, 0, 0, 0, 0, 0, 0, 0, 0, 0, 0, 0, 0, 0, 0, 0,\n",
              "        0, 0, 0, 0, 0, 0, 0, 0, 0, 0, 0, 0, 0, 0, 0, 0, 0, 0, 0, 0, 0, 0,\n",
              "        0, 0, 0, 0, 0, 0, 1, 1, 1, 1, 1, 1, 1, 1, 1, 1, 1, 1, 1, 1, 1, 1,\n",
              "        1, 1, 1, 1, 1, 1, 1, 1, 1, 1, 1, 1, 1, 1, 1, 1, 1, 1, 1, 1, 1, 1,\n",
              "        1, 1, 1, 1, 1, 1, 1, 1, 1, 1, 1, 1, 2, 2, 2, 2, 2, 2, 2, 2, 2, 2,\n",
              "        2, 2, 2, 2, 2, 2, 2, 2, 2, 2, 2, 2, 2, 2, 2, 2, 2, 2, 2, 2, 2, 2,\n",
              "        2, 2, 2, 2, 2, 2, 2, 2, 2, 2, 2, 2, 2, 2, 2, 2, 2, 2]),\n",
              " 'frame': None,\n",
              " 'target_names': array(['setosa', 'versicolor', 'virginica'], dtype='<U10'),\n",
              " 'DESCR': '.. _iris_dataset:\\n\\nIris plants dataset\\n--------------------\\n\\n**Data Set Characteristics:**\\n\\n:Number of Instances: 150 (50 in each of three classes)\\n:Number of Attributes: 4 numeric, predictive attributes and the class\\n:Attribute Information:\\n    - sepal length in cm\\n    - sepal width in cm\\n    - petal length in cm\\n    - petal width in cm\\n    - class:\\n            - Iris-Setosa\\n            - Iris-Versicolour\\n            - Iris-Virginica\\n\\n:Summary Statistics:\\n\\n============== ==== ==== ======= ===== ====================\\n                Min  Max   Mean    SD   Class Correlation\\n============== ==== ==== ======= ===== ====================\\nsepal length:   4.3  7.9   5.84   0.83    0.7826\\nsepal width:    2.0  4.4   3.05   0.43   -0.4194\\npetal length:   1.0  6.9   3.76   1.76    0.9490  (high!)\\npetal width:    0.1  2.5   1.20   0.76    0.9565  (high!)\\n============== ==== ==== ======= ===== ====================\\n\\n:Missing Attribute Values: None\\n:Class Distribution: 33.3% for each of 3 classes.\\n:Creator: R.A. Fisher\\n:Donor: Michael Marshall (MARSHALL%PLU@io.arc.nasa.gov)\\n:Date: July, 1988\\n\\nThe famous Iris database, first used by Sir R.A. Fisher. The dataset is taken\\nfrom Fisher\\'s paper. Note that it\\'s the same as in R, but not as in the UCI\\nMachine Learning Repository, which has two wrong data points.\\n\\nThis is perhaps the best known database to be found in the\\npattern recognition literature.  Fisher\\'s paper is a classic in the field and\\nis referenced frequently to this day.  (See Duda & Hart, for example.)  The\\ndata set contains 3 classes of 50 instances each, where each class refers to a\\ntype of iris plant.  One class is linearly separable from the other 2; the\\nlatter are NOT linearly separable from each other.\\n\\n.. dropdown:: References\\n\\n  - Fisher, R.A. \"The use of multiple measurements in taxonomic problems\"\\n    Annual Eugenics, 7, Part II, 179-188 (1936); also in \"Contributions to\\n    Mathematical Statistics\" (John Wiley, NY, 1950).\\n  - Duda, R.O., & Hart, P.E. (1973) Pattern Classification and Scene Analysis.\\n    (Q327.D83) John Wiley & Sons.  ISBN 0-471-22361-1.  See page 218.\\n  - Dasarathy, B.V. (1980) \"Nosing Around the Neighborhood: A New System\\n    Structure and Classification Rule for Recognition in Partially Exposed\\n    Environments\".  IEEE Transactions on Pattern Analysis and Machine\\n    Intelligence, Vol. PAMI-2, No. 1, 67-71.\\n  - Gates, G.W. (1972) \"The Reduced Nearest Neighbor Rule\".  IEEE Transactions\\n    on Information Theory, May 1972, 431-433.\\n  - See also: 1988 MLC Proceedings, 54-64.  Cheeseman et al\"s AUTOCLASS II\\n    conceptual clustering system finds 3 classes in the data.\\n  - Many, many more ...\\n',\n",
              " 'feature_names': ['sepal length (cm)',\n",
              "  'sepal width (cm)',\n",
              "  'petal length (cm)',\n",
              "  'petal width (cm)'],\n",
              " 'filename': 'iris.csv',\n",
              " 'data_module': 'sklearn.datasets.data'}"
            ]
          },
          "metadata": {},
          "execution_count": 54
        }
      ]
    },
    {
      "cell_type": "code",
      "source": [
        "X = iris.data\n",
        "y = iris.target\n",
        "num_samples, num_features = X.shape\n",
        "num_classes = len(np.unique(y))\n",
        "num_samples, num_features, num_classes"
      ],
      "metadata": {
        "colab": {
          "base_uri": "https://localhost:8080/"
        },
        "id": "-VcboYy5LA9s",
        "outputId": "a5feb0ff-75f9-4bfe-97c7-abaae2f38995"
      },
      "execution_count": 55,
      "outputs": [
        {
          "output_type": "execute_result",
          "data": {
            "text/plain": [
              "(150, 4, 3)"
            ]
          },
          "metadata": {},
          "execution_count": 55
        }
      ]
    },
    {
      "cell_type": "code",
      "source": [
        "X_train, X_test, y_train, y_test = train_test_split(X, y, train_size=0.8,\n",
        "                                                    random_state=42, shuffle=True, stratify=y)\n",
        "\n",
        "X_train, X_valid, y_train, y_valid = train_test_split(X_train, y_train, train_size=0.9, stratify=y_train)\n",
        "\n",
        "X_train.shape, y_train.shape, X_valid.shape, y_valid.shape, X_test.shape, y_test.shape"
      ],
      "metadata": {
        "colab": {
          "base_uri": "https://localhost:8080/"
        },
        "id": "xJxx-y5wLWs5",
        "outputId": "610facd4-eda6-4b64-8932-917e949682c3"
      },
      "execution_count": 56,
      "outputs": [
        {
          "output_type": "execute_result",
          "data": {
            "text/plain": [
              "((108, 4), (108,), (12, 4), (12,), (30, 4), (30,))"
            ]
          },
          "metadata": {},
          "execution_count": 56
        }
      ]
    },
    {
      "cell_type": "markdown",
      "source": [
        "Standard Scaling"
      ],
      "metadata": {
        "id": "P-Xq1LOIOg_l"
      }
    },
    {
      "cell_type": "code",
      "source": [
        "x_scaler = StandardScaler()\n",
        "X_train  = x_scaler.fit_transform(X_train)\n",
        "X_valid  = x_scaler.transform(X_valid)\n",
        "X_test  = x_scaler.transform(X_test)\n",
        "X_train.min(), X_train.max()"
      ],
      "metadata": {
        "colab": {
          "base_uri": "https://localhost:8080/"
        },
        "id": "2rMtOQQxOPwG",
        "outputId": "e274ea2b-1725-40ac-b52f-d1e43753c312"
      },
      "execution_count": 57,
      "outputs": [
        {
          "output_type": "execute_result",
          "data": {
            "text/plain": [
              "(np.float64(-2.2850990395573536), np.float64(2.9797691475827905))"
            ]
          },
          "metadata": {},
          "execution_count": 57
        }
      ]
    },
    {
      "cell_type": "code",
      "source": [
        "X_train = torch.tensor(X_train, dtype=torch.float32)\n",
        "y_train = torch.tensor(y_train, dtype=torch.int64)\n",
        "\n",
        "X_valid = torch.tensor(X_valid, dtype=torch.float32)\n",
        "y_valid = torch.tensor(y_valid, dtype=torch.int64)\n",
        "\n",
        "X_test = torch.tensor(X_test, dtype=torch.float32)\n",
        "y_test = torch.tensor(y_test, dtype=torch.int64)\n",
        "\n",
        "X_train.shape, y_train.shape, X_valid.shape, y_valid.shape, X_test.shape, y_test.shape"
      ],
      "metadata": {
        "colab": {
          "base_uri": "https://localhost:8080/"
        },
        "id": "yA2YIYauOwmD",
        "outputId": "d9bb72e2-e8ba-43c6-f31b-fe3355d20ba7"
      },
      "execution_count": 58,
      "outputs": [
        {
          "output_type": "execute_result",
          "data": {
            "text/plain": [
              "(torch.Size([108, 4]),\n",
              " torch.Size([108]),\n",
              " torch.Size([12, 4]),\n",
              " torch.Size([12]),\n",
              " torch.Size([30, 4]),\n",
              " torch.Size([30]))"
            ]
          },
          "metadata": {},
          "execution_count": 58
        }
      ]
    },
    {
      "cell_type": "code",
      "source": [
        "train_set = TensorDataset(X_train, y_train)\n",
        "valid_set = TensorDataset(X_valid, y_valid)\n",
        "test_set = TensorDataset(X_test, y_test)"
      ],
      "metadata": {
        "id": "PvJ2S_7nPCNi"
      },
      "execution_count": 59,
      "outputs": []
    },
    {
      "cell_type": "code",
      "source": [
        "train_loader = DataLoader(train_set, batch_size=10, shuffle=True)\n",
        "valid_loader = DataLoader(valid_set, batch_size=10)\n",
        "test_loader = DataLoader(test_set, batch_size=10)"
      ],
      "metadata": {
        "id": "3YxSl4kWPU0K"
      },
      "execution_count": 60,
      "outputs": []
    },
    {
      "cell_type": "markdown",
      "source": [
        "Model"
      ],
      "metadata": {
        "id": "2S2UCRL-P6Cm"
      }
    },
    {
      "cell_type": "code",
      "source": [
        "model = nn.Linear(num_features, num_classes)"
      ],
      "metadata": {
        "id": "EI04-t-_Pa9_"
      },
      "execution_count": 99,
      "outputs": []
    },
    {
      "cell_type": "markdown",
      "source": [
        "Loss:"
      ],
      "metadata": {
        "id": "KJThO17LWITJ"
      }
    },
    {
      "cell_type": "code",
      "source": [
        "loss_fn = nn.CrossEntropyLoss()"
      ],
      "metadata": {
        "id": "oREBju_RWG-a"
      },
      "execution_count": 89,
      "outputs": []
    },
    {
      "cell_type": "markdown",
      "source": [
        "Optimizer:"
      ],
      "metadata": {
        "id": "eSE_fqq_WWNc"
      }
    },
    {
      "cell_type": "code",
      "source": [
        "optimizer = SGD(model.parameters(), lr=0.01, momentum=0.5)"
      ],
      "metadata": {
        "id": "wSyv3t5uWSGX"
      },
      "execution_count": 100,
      "outputs": []
    },
    {
      "cell_type": "markdown",
      "source": [
        "Train:"
      ],
      "metadata": {
        "id": "by_gBPVRWnNF"
      }
    },
    {
      "cell_type": "code",
      "source": [
        "n_epochs = 200\n",
        "loss_train_hist, acc_train_hist = [], []\n",
        "loss_valid_hist, acc_valid_hist = [], []\n",
        "best_loss_valid = float('inf')"
      ],
      "metadata": {
        "id": "aJ5l7B7mWYaB"
      },
      "execution_count": 101,
      "outputs": []
    },
    {
      "cell_type": "code",
      "source": [
        "for i in range(n_epochs):\n",
        "  mean_loss_train, mean_loss_valid = 0, 0\n",
        "  mean_acc_train, mean_acc_valid = 0, 0\n",
        "  for x_batch , y_batch in train_loader:\n",
        "    y_hat = model(x_batch)\n",
        "\n",
        "    loss = loss_fn(y_hat, y_batch)\n",
        "    loss.backward()\n",
        "\n",
        "    optimizer.step()\n",
        "    optimizer.zero_grad()\n",
        "\n",
        "    mean_loss_train += loss.item() * len(x_batch)\n",
        "    mean_acc_train += torch.sum(y_hat.argmax(dim=1) == y_batch).item()\n",
        "\n",
        "  mean_loss_train = mean_loss_train/len(train_set)\n",
        "  mean_acc_train = mean_acc_train/len(train_set)\n",
        "\n",
        "  loss_train_hist.append(mean_loss_train)\n",
        "  acc_train_hist.append(mean_acc_train)\n",
        "\n",
        "  with torch.no_grad():\n",
        "    for x_batch , y_batch in valid_loader:\n",
        "      y_hat = model(x_batch)\n",
        "      loss = loss_fn(y_hat, y_batch)\n",
        "      mean_loss_valid += loss.item() * len(x_batch)\n",
        "      mean_acc_valid += torch.sum(y_hat.argmax(dim=1) == y_batch).item()\n",
        "\n",
        "    mean_loss_valid = mean_loss_valid/len(valid_set)\n",
        "    mean_acc_valid = mean_acc_valid/len(valid_set)\n",
        "\n",
        "    loss_valid_hist.append(mean_loss_valid)\n",
        "    acc_valid_hist.append(mean_acc_valid)\n",
        "\n",
        "  # print(f\"epoch: {i}  \"\n",
        "  #     f\"TrainLoss: {mean_loss_train:.2}  \"\n",
        "  #     f\"TrainAcc: {mean_acc_train:.2}  \"\n",
        "  #     f\"ValidLoss: {mean_loss_valid:.2}  \"\n",
        "  #     f\"ValidAcc: {mean_acc_valid:.2}\")\n",
        "  if mean_loss_valid < best_loss_valid:\n",
        "    torch.save(model, \"best-model.pt\")\n",
        "    best_loss_valid = mean_loss_valid\n",
        "    print(f\"Model Saved! best loss valid: {best_loss_valid}\")\n",
        "    print()"
      ],
      "metadata": {
        "id": "9agat1VOWpRY",
        "colab": {
          "base_uri": "https://localhost:8080/"
        },
        "collapsed": true,
        "outputId": "e4d4efa3-893d-42a3-f71c-0c0b2555a15b"
      },
      "execution_count": 102,
      "outputs": [
        {
          "output_type": "stream",
          "name": "stdout",
          "text": [
            "Model Saved! best loss valid: 1.0006930232048035\n",
            "\n",
            "Model Saved! best loss valid: 0.8542433182398478\n",
            "\n",
            "Model Saved! best loss valid: 0.7580352524916331\n",
            "\n",
            "Model Saved! best loss valid: 0.6851481596628824\n",
            "\n",
            "Model Saved! best loss valid: 0.6322878102461497\n",
            "\n",
            "Model Saved! best loss valid: 0.5921137183904648\n",
            "\n",
            "Model Saved! best loss valid: 0.5593923727671305\n",
            "\n",
            "Model Saved! best loss valid: 0.5334769090016683\n",
            "\n",
            "Model Saved! best loss valid: 0.5118722319602966\n",
            "\n",
            "Model Saved! best loss valid: 0.49306242167949677\n",
            "\n",
            "Model Saved! best loss valid: 0.4767149289449056\n",
            "\n",
            "Model Saved! best loss valid: 0.46258048713207245\n",
            "\n",
            "Model Saved! best loss valid: 0.4500833253065745\n",
            "\n",
            "Model Saved! best loss valid: 0.4381774365901947\n",
            "\n",
            "Model Saved! best loss valid: 0.42823047439257306\n",
            "\n",
            "Model Saved! best loss valid: 0.4184509664773941\n",
            "\n",
            "Model Saved! best loss valid: 0.4097289989391963\n",
            "\n",
            "Model Saved! best loss valid: 0.401317132016023\n",
            "\n",
            "Model Saved! best loss valid: 0.3934454495708148\n",
            "\n",
            "Model Saved! best loss valid: 0.38635844240585965\n",
            "\n",
            "Model Saved! best loss valid: 0.3793112138907115\n",
            "\n",
            "Model Saved! best loss valid: 0.3725052202741305\n",
            "\n",
            "Model Saved! best loss valid: 0.36672334869702655\n",
            "\n",
            "Model Saved! best loss valid: 0.3607482959826787\n",
            "\n",
            "Model Saved! best loss valid: 0.35518214603265125\n",
            "\n",
            "Model Saved! best loss valid: 0.349894920984904\n",
            "\n",
            "Model Saved! best loss valid: 0.3447963371872902\n",
            "\n",
            "Model Saved! best loss valid: 0.33984671036402386\n",
            "\n",
            "Model Saved! best loss valid: 0.33506773908933\n",
            "\n",
            "Model Saved! best loss valid: 0.3305147166053454\n",
            "\n",
            "Model Saved! best loss valid: 0.3263147622346878\n",
            "\n",
            "Model Saved! best loss valid: 0.32206247995297116\n",
            "\n",
            "Model Saved! best loss valid: 0.3177354757984479\n",
            "\n",
            "Model Saved! best loss valid: 0.31388258934020996\n",
            "\n",
            "Model Saved! best loss valid: 0.31013890107472736\n",
            "\n",
            "Model Saved! best loss valid: 0.30598314851522446\n",
            "\n",
            "Model Saved! best loss valid: 0.30238427470127743\n",
            "\n",
            "Model Saved! best loss valid: 0.29893745481967926\n",
            "\n",
            "Model Saved! best loss valid: 0.29544150332609814\n",
            "\n",
            "Model Saved! best loss valid: 0.29251504441102344\n",
            "\n",
            "Model Saved! best loss valid: 0.28911390403906506\n",
            "\n",
            "Model Saved! best loss valid: 0.2856470321615537\n",
            "\n",
            "Model Saved! best loss valid: 0.28276801606019336\n",
            "\n",
            "Model Saved! best loss valid: 0.27967623621225357\n",
            "\n",
            "Model Saved! best loss valid: 0.27666425704956055\n",
            "\n",
            "Model Saved! best loss valid: 0.2735748750468095\n",
            "\n",
            "Model Saved! best loss valid: 0.27080726126829785\n",
            "\n",
            "Model Saved! best loss valid: 0.2681959966818492\n",
            "\n",
            "Model Saved! best loss valid: 0.26543846478064853\n",
            "\n",
            "Model Saved! best loss valid: 0.26294749478499096\n",
            "\n",
            "Model Saved! best loss valid: 0.26037395869692165\n",
            "\n",
            "Model Saved! best loss valid: 0.25764021277427673\n",
            "\n",
            "Model Saved! best loss valid: 0.2552970287700494\n",
            "\n",
            "Model Saved! best loss valid: 0.252650214980046\n",
            "\n",
            "Model Saved! best loss valid: 0.24997206528981528\n",
            "\n",
            "Model Saved! best loss valid: 0.2478447606166204\n",
            "\n",
            "Model Saved! best loss valid: 0.24562046925226846\n",
            "\n",
            "Model Saved! best loss valid: 0.24384232113758722\n",
            "\n",
            "Model Saved! best loss valid: 0.24128462374210358\n",
            "\n",
            "Model Saved! best loss valid: 0.23937085891763368\n",
            "\n",
            "Model Saved! best loss valid: 0.23712127159039179\n",
            "\n",
            "Model Saved! best loss valid: 0.23484265804290771\n",
            "\n",
            "Model Saved! best loss valid: 0.23296716809272766\n",
            "\n",
            "Model Saved! best loss valid: 0.2309286209444205\n",
            "\n",
            "Model Saved! best loss valid: 0.2290860339999199\n",
            "\n",
            "Model Saved! best loss valid: 0.22715816274285316\n",
            "\n",
            "Model Saved! best loss valid: 0.22506878028313318\n",
            "\n",
            "Model Saved! best loss valid: 0.22320140277345976\n",
            "\n",
            "Model Saved! best loss valid: 0.22139406080047289\n",
            "\n",
            "Model Saved! best loss valid: 0.219697126497825\n",
            "\n",
            "Model Saved! best loss valid: 0.2178444005548954\n",
            "\n",
            "Model Saved! best loss valid: 0.21611031765739122\n",
            "\n",
            "Model Saved! best loss valid: 0.21436851720015207\n",
            "\n",
            "Model Saved! best loss valid: 0.21299817288915315\n",
            "\n",
            "Model Saved! best loss valid: 0.21116624027490616\n",
            "\n",
            "Model Saved! best loss valid: 0.20960984751582146\n",
            "\n",
            "Model Saved! best loss valid: 0.20804094771544138\n",
            "\n",
            "Model Saved! best loss valid: 0.2066084456940492\n",
            "\n",
            "Model Saved! best loss valid: 0.20505934208631516\n",
            "\n",
            "Model Saved! best loss valid: 0.20337778826554617\n",
            "\n",
            "Model Saved! best loss valid: 0.20185108482837677\n",
            "\n",
            "Model Saved! best loss valid: 0.2002779853840669\n",
            "\n",
            "Model Saved! best loss valid: 0.19867867728074393\n",
            "\n",
            "Model Saved! best loss valid: 0.19705714782079062\n",
            "\n",
            "Model Saved! best loss valid: 0.19608880331118902\n",
            "\n",
            "Model Saved! best loss valid: 0.1942125235994657\n",
            "\n",
            "Model Saved! best loss valid: 0.19290344417095184\n",
            "\n",
            "Model Saved! best loss valid: 0.19148305182655653\n",
            "\n",
            "Model Saved! best loss valid: 0.19005980094273886\n",
            "\n",
            "Model Saved! best loss valid: 0.18888797983527184\n",
            "\n",
            "Model Saved! best loss valid: 0.18743955343961716\n",
            "\n",
            "Model Saved! best loss valid: 0.18622310956319174\n",
            "\n",
            "Model Saved! best loss valid: 0.1849762201309204\n",
            "\n",
            "Model Saved! best loss valid: 0.18360780055324236\n",
            "\n",
            "Model Saved! best loss valid: 0.18233394622802734\n",
            "\n",
            "Model Saved! best loss valid: 0.18097591400146484\n",
            "\n",
            "Model Saved! best loss valid: 0.1798530394832293\n",
            "\n",
            "Model Saved! best loss valid: 0.17864185323317847\n",
            "\n",
            "Model Saved! best loss valid: 0.17720798154671988\n",
            "\n",
            "Model Saved! best loss valid: 0.17605077972014746\n",
            "\n",
            "Model Saved! best loss valid: 0.17493532101313272\n",
            "\n",
            "Model Saved! best loss valid: 0.1739059475560983\n",
            "\n",
            "Model Saved! best loss valid: 0.17255141213536263\n",
            "\n",
            "Model Saved! best loss valid: 0.1715408762296041\n",
            "\n",
            "Model Saved! best loss valid: 0.17024064809083939\n",
            "\n",
            "Model Saved! best loss valid: 0.16930301984151205\n",
            "\n",
            "Model Saved! best loss valid: 0.16805831342935562\n",
            "\n",
            "Model Saved! best loss valid: 0.1669371190170447\n",
            "\n",
            "Model Saved! best loss valid: 0.16598067432641983\n",
            "\n",
            "Model Saved! best loss valid: 0.1647518165409565\n",
            "\n",
            "Model Saved! best loss valid: 0.16385731597741446\n",
            "\n",
            "Model Saved! best loss valid: 0.16274071484804153\n",
            "\n",
            "Model Saved! best loss valid: 0.16186174501975378\n",
            "\n",
            "Model Saved! best loss valid: 0.16062112152576447\n",
            "\n",
            "Model Saved! best loss valid: 0.15963120386004448\n",
            "\n",
            "Model Saved! best loss valid: 0.15898897995551428\n",
            "\n",
            "Model Saved! best loss valid: 0.15773864462971687\n",
            "\n",
            "Model Saved! best loss valid: 0.15693922837575278\n",
            "\n",
            "Model Saved! best loss valid: 0.15591139843066534\n",
            "\n",
            "Model Saved! best loss valid: 0.1550223616262277\n",
            "\n",
            "Model Saved! best loss valid: 0.15415342773000398\n",
            "\n",
            "Model Saved! best loss valid: 0.15334933499495187\n",
            "\n",
            "Model Saved! best loss valid: 0.15245518709222475\n",
            "\n",
            "Model Saved! best loss valid: 0.15128454193472862\n",
            "\n",
            "Model Saved! best loss valid: 0.15060536315043768\n",
            "\n",
            "Model Saved! best loss valid: 0.14955907439192137\n",
            "\n",
            "Model Saved! best loss valid: 0.1489135529845953\n",
            "\n",
            "Model Saved! best loss valid: 0.14803204561273256\n",
            "\n",
            "Model Saved! best loss valid: 0.14718885906040668\n",
            "\n",
            "Model Saved! best loss valid: 0.14622785709798336\n",
            "\n",
            "Model Saved! best loss valid: 0.14522800842920938\n",
            "\n",
            "Model Saved! best loss valid: 0.14450584103663763\n",
            "\n",
            "Model Saved! best loss valid: 0.14403820658723512\n",
            "\n",
            "Model Saved! best loss valid: 0.1430733148008585\n",
            "\n",
            "Model Saved! best loss valid: 0.1422641562918822\n",
            "\n",
            "Model Saved! best loss valid: 0.14141070346037546\n",
            "\n",
            "Model Saved! best loss valid: 0.1408372651785612\n",
            "\n",
            "Model Saved! best loss valid: 0.14007417485117912\n",
            "\n",
            "Model Saved! best loss valid: 0.13922320492565632\n",
            "\n",
            "Model Saved! best loss valid: 0.13847283832728863\n",
            "\n",
            "Model Saved! best loss valid: 0.13778786982099214\n",
            "\n",
            "Model Saved! best loss valid: 0.1366989171753327\n",
            "\n",
            "Model Saved! best loss valid: 0.1362020286420981\n",
            "\n",
            "Model Saved! best loss valid: 0.13538501597940922\n",
            "\n",
            "Model Saved! best loss valid: 0.13462921231985092\n",
            "\n",
            "Model Saved! best loss valid: 0.1340468885997931\n",
            "\n",
            "Model Saved! best loss valid: 0.13324092825253805\n",
            "\n",
            "Model Saved! best loss valid: 0.13251671195030212\n",
            "\n",
            "Model Saved! best loss valid: 0.13184679113328457\n",
            "\n",
            "Model Saved! best loss valid: 0.1310875608275334\n",
            "\n",
            "Model Saved! best loss valid: 0.13046161209543547\n",
            "\n",
            "Model Saved! best loss valid: 0.12980213637153307\n",
            "\n",
            "Model Saved! best loss valid: 0.12901295721530914\n",
            "\n",
            "Model Saved! best loss valid: 0.12825177734096846\n",
            "\n",
            "Model Saved! best loss valid: 0.12736191911002\n",
            "\n",
            "Model Saved! best loss valid: 0.12662497286995253\n",
            "\n",
            "Model Saved! best loss valid: 0.12635844511290392\n",
            "\n",
            "Model Saved! best loss valid: 0.12569823612769446\n",
            "\n",
            "Model Saved! best loss valid: 0.12504674245913824\n",
            "\n",
            "Model Saved! best loss valid: 0.12434448053439458\n",
            "\n",
            "Model Saved! best loss valid: 0.12385810290773709\n",
            "\n",
            "Model Saved! best loss valid: 0.1232652689019839\n",
            "\n",
            "Model Saved! best loss valid: 0.12284436821937561\n",
            "\n",
            "Model Saved! best loss valid: 0.12191088497638702\n",
            "\n",
            "Model Saved! best loss valid: 0.12154538370668888\n",
            "\n",
            "Model Saved! best loss valid: 0.12089934386312962\n",
            "\n",
            "Model Saved! best loss valid: 0.12032651032010715\n",
            "\n",
            "Model Saved! best loss valid: 0.11975811359783013\n",
            "\n",
            "Model Saved! best loss valid: 0.11935686754683654\n",
            "\n",
            "Model Saved! best loss valid: 0.11849974778791268\n",
            "\n",
            "Model Saved! best loss valid: 0.11823702914019425\n",
            "\n",
            "Model Saved! best loss valid: 0.11774700569609801\n",
            "\n",
            "Model Saved! best loss valid: 0.11694991091887157\n",
            "\n",
            "Model Saved! best loss valid: 0.1166086383163929\n",
            "\n",
            "Model Saved! best loss valid: 0.11603377449015777\n",
            "\n",
            "Model Saved! best loss valid: 0.11546152209242184\n",
            "\n",
            "Model Saved! best loss valid: 0.11465806514024734\n",
            "\n",
            "Model Saved! best loss valid: 0.1143990159034729\n",
            "\n",
            "Model Saved! best loss valid: 0.11386323347687721\n",
            "\n",
            "Model Saved! best loss valid: 0.11338828007380168\n",
            "\n",
            "Model Saved! best loss valid: 0.11299420023957889\n",
            "\n",
            "Model Saved! best loss valid: 0.11232861752311389\n",
            "\n",
            "Model Saved! best loss valid: 0.11189357377588749\n",
            "\n",
            "Model Saved! best loss valid: 0.11145367597540219\n",
            "\n",
            "Model Saved! best loss valid: 0.11057977626721065\n",
            "\n",
            "Model Saved! best loss valid: 0.11039370857179165\n",
            "\n",
            "Model Saved! best loss valid: 0.10963179916143417\n",
            "\n",
            "Model Saved! best loss valid: 0.10943104078372319\n",
            "\n",
            "Model Saved! best loss valid: 0.10864560243984063\n",
            "\n",
            "Model Saved! best loss valid: 0.10839865729212761\n",
            "\n",
            "Model Saved! best loss valid: 0.10772303181389968\n",
            "\n",
            "Model Saved! best loss valid: 0.10732906063397725\n",
            "\n",
            "Model Saved! best loss valid: 0.10687572509050369\n",
            "\n",
            "Model Saved! best loss valid: 0.10644111099342506\n",
            "\n",
            "Model Saved! best loss valid: 0.10576324785749118\n",
            "\n",
            "Model Saved! best loss valid: 0.10552591147522132\n",
            "\n",
            "Model Saved! best loss valid: 0.10494641711314519\n",
            "\n",
            "Model Saved! best loss valid: 0.10466562025249004\n",
            "\n",
            "Model Saved! best loss valid: 0.10408654622733593\n",
            "\n",
            "Model Saved! best loss valid: 0.10368095089991887\n",
            "\n"
          ]
        }
      ]
    },
    {
      "cell_type": "code",
      "source": [
        "loss_train_hist"
      ],
      "metadata": {
        "colab": {
          "base_uri": "https://localhost:8080/"
        },
        "collapsed": true,
        "id": "wK4aZq84YpyC",
        "outputId": "48e8d32a-7c94-4e72-d9da-2eba040c8fac"
      },
      "execution_count": 103,
      "outputs": [
        {
          "output_type": "execute_result",
          "data": {
            "text/plain": [
              "[1.0678395452322784,\n",
              " 0.9059853200559262,\n",
              " 0.7892155371330403,\n",
              " 0.7090908631130501,\n",
              " 0.6521042828206662,\n",
              " 0.6084795263078477,\n",
              " 0.5758005579312643,\n",
              " 0.5495995525960569,\n",
              " 0.5295468077615455,\n",
              " 0.5104404980385745,\n",
              " 0.49585124022430843,\n",
              " 0.482869119003967,\n",
              " 0.47112965638990756,\n",
              " 0.4616018699275123,\n",
              " 0.4519856064407914,\n",
              " 0.44369197278111067,\n",
              " 0.43617106698177477,\n",
              " 0.42962360354485335,\n",
              " 0.4228110702501403,\n",
              " 0.4172702199882931,\n",
              " 0.411310536717927,\n",
              " 0.40637913980969675,\n",
              " 0.40125844103318675,\n",
              " 0.396651315468329,\n",
              " 0.39242947653487875,\n",
              " 0.38869126361829265,\n",
              " 0.38451365215910804,\n",
              " 0.38069892591900295,\n",
              " 0.3769252073985559,\n",
              " 0.37340795745452243,\n",
              " 0.3700254186987877,\n",
              " 0.36699296727224634,\n",
              " 0.36401251841474463,\n",
              " 0.36106562283304,\n",
              " 0.3579727438864885,\n",
              " 0.3550021066157906,\n",
              " 0.3524589657231613,\n",
              " 0.34995517824535016,\n",
              " 0.3472396963172489,\n",
              " 0.34487609730826485,\n",
              " 0.3423990274745005,\n",
              " 0.3400179898297345,\n",
              " 0.3376293706673163,\n",
              " 0.3354473754211708,\n",
              " 0.33327055474122363,\n",
              " 0.33084975859081306,\n",
              " 0.32893575976292294,\n",
              " 0.3269791004282457,\n",
              " 0.32483074013833646,\n",
              " 0.32300294080266245,\n",
              " 0.3211486866628682,\n",
              " 0.31887387125580396,\n",
              " 0.3172287811283712,\n",
              " 0.315533134120482,\n",
              " 0.3135782560264623,\n",
              " 0.31227259117144124,\n",
              " 0.30987095722445734,\n",
              " 0.3082347837863145,\n",
              " 0.3067178535792563,\n",
              " 0.3049241892165608,\n",
              " 0.30334915965795517,\n",
              " 0.3015206279578032,\n",
              " 0.3001595100870839,\n",
              " 0.2983948041995366,\n",
              " 0.29696323060327107,\n",
              " 0.2953889665228349,\n",
              " 0.29391627979499324,\n",
              " 0.29243989702728057,\n",
              " 0.2911885772590284,\n",
              " 0.2895391393038962,\n",
              " 0.28798106754267655,\n",
              " 0.28679073022471535,\n",
              " 0.28566488927161254,\n",
              " 0.2840396563212077,\n",
              " 0.2827910550490574,\n",
              " 0.28159074430112485,\n",
              " 0.2805585033363766,\n",
              " 0.2786421243239332,\n",
              " 0.277576998979957,\n",
              " 0.27626561125119525,\n",
              " 0.27505239485590544,\n",
              " 0.27370845057346205,\n",
              " 0.27241223526221736,\n",
              " 0.2714717068054058,\n",
              " 0.2700677216053009,\n",
              " 0.2687977690387655,\n",
              " 0.267595605717765,\n",
              " 0.2664715857417495,\n",
              " 0.26531710751630644,\n",
              " 0.26448190846928843,\n",
              " 0.2630117532831651,\n",
              " 0.2621123351984554,\n",
              " 0.261074911389086,\n",
              " 0.2597786562034377,\n",
              " 0.2586534640027417,\n",
              " 0.25767231042738314,\n",
              " 0.2563941834701432,\n",
              " 0.25540177192952895,\n",
              " 0.2548093231463874,\n",
              " 0.2533792582926927,\n",
              " 0.25251389087902176,\n",
              " 0.25161562197738224,\n",
              " 0.2505076229572296,\n",
              " 0.24944600269750314,\n",
              " 0.24848103357685936,\n",
              " 0.24751000299497886,\n",
              " 0.24674444921590663,\n",
              " 0.2456452683718116,\n",
              " 0.24459500914370572,\n",
              " 0.24383192730170708,\n",
              " 0.24275535317482771,\n",
              " 0.24180781179004246,\n",
              " 0.2411704630487495,\n",
              " 0.24015833740984951,\n",
              " 0.2393158522469026,\n",
              " 0.23838413258393606,\n",
              " 0.23745596491628224,\n",
              " 0.23659544603692162,\n",
              " 0.2357784073661875,\n",
              " 0.2349325137005912,\n",
              " 0.23405579712103913,\n",
              " 0.23331780717880637,\n",
              " 0.2324640212787522,\n",
              " 0.23180781635973188,\n",
              " 0.23090304103162554,\n",
              " 0.2300418292482694,\n",
              " 0.22927655445204842,\n",
              " 0.2284297369144581,\n",
              " 0.22761311147499969,\n",
              " 0.22702089531554115,\n",
              " 0.22632721452801316,\n",
              " 0.2253359285769639,\n",
              " 0.22452601735238675,\n",
              " 0.2238015267584059,\n",
              " 0.2230450279182858,\n",
              " 0.22239385931580155,\n",
              " 0.2215810698215608,\n",
              " 0.22099408672915566,\n",
              " 0.22020648819980798,\n",
              " 0.21952214161003078,\n",
              " 0.2188042494709845,\n",
              " 0.21812687138164485,\n",
              " 0.21734553630705233,\n",
              " 0.21677437741999273,\n",
              " 0.21601625393938134,\n",
              " 0.2152734465069241,\n",
              " 0.21456785141317933,\n",
              " 0.21400607253114382,\n",
              " 0.21328128929491397,\n",
              " 0.21262028647793663,\n",
              " 0.21191965926576545,\n",
              " 0.21135775413778093,\n",
              " 0.21072705586751303,\n",
              " 0.20992844551801682,\n",
              " 0.20931904900957038,\n",
              " 0.20897058466518367,\n",
              " 0.2082217359846389,\n",
              " 0.2076007224343441,\n",
              " 0.20688898419892346,\n",
              " 0.20635694099797142,\n",
              " 0.20574843773135432,\n",
              " 0.20517539219171912,\n",
              " 0.2046373656226529,\n",
              " 0.20402734436922604,\n",
              " 0.20340132023449298,\n",
              " 0.20272157299849722,\n",
              " 0.20213204636066048,\n",
              " 0.20171318962066262,\n",
              " 0.20108297067107977,\n",
              " 0.2006183018287023,\n",
              " 0.19981695753004816,\n",
              " 0.1993574431097066,\n",
              " 0.19890041111244094,\n",
              " 0.1983451219620528,\n",
              " 0.19798501084248224,\n",
              " 0.19722550127793242,\n",
              " 0.1969195129694762,\n",
              " 0.19619316138603068,\n",
              " 0.19569258764386177,\n",
              " 0.19511212118797833,\n",
              " 0.1945380714756471,\n",
              " 0.1941415317080639,\n",
              " 0.19359898015304847,\n",
              " 0.19325644398729006,\n",
              " 0.19284864860000434,\n",
              " 0.19205799754019137,\n",
              " 0.1917505200124449,\n",
              " 0.19137243333238144,\n",
              " 0.19067401231990921,\n",
              " 0.19016487634292356,\n",
              " 0.18983809649944305,\n",
              " 0.18915558923725728,\n",
              " 0.18862611455497919,\n",
              " 0.1881818335365366,\n",
              " 0.18771597674047505,\n",
              " 0.1872488240952845,\n",
              " 0.1867210052355572,\n",
              " 0.18625720259216097,\n",
              " 0.18587005200485388,\n",
              " 0.18539660341209835]"
            ]
          },
          "metadata": {},
          "execution_count": 103
        }
      ]
    },
    {
      "cell_type": "code",
      "source": [
        "plt.plot(loss_train_hist)\n",
        "plt.plot(loss_valid_hist)\n",
        "plt.legend(['Train', 'Valid'])"
      ],
      "metadata": {
        "colab": {
          "base_uri": "https://localhost:8080/",
          "height": 447
        },
        "id": "K5I7VZHsYym1",
        "outputId": "cc8a967f-3066-47ed-c31b-108870f92dd0"
      },
      "execution_count": 104,
      "outputs": [
        {
          "output_type": "execute_result",
          "data": {
            "text/plain": [
              "<matplotlib.legend.Legend at 0x7a8bf391ab50>"
            ]
          },
          "metadata": {},
          "execution_count": 104
        },
        {
          "output_type": "display_data",
          "data": {
            "text/plain": [
              "<Figure size 640x480 with 1 Axes>"
            ],
            "image/png": "[encoded data removed]"
          },
          "metadata": {}
        }
      ]
    },
    {
      "cell_type": "code",
      "source": [
        "plt.plot(torch.arange(n_epochs), acc_train_hist)\n",
        "plt.plot(torch.arange(n_epochs), acc_valid_hist)\n",
        "plt.legend(['Train', 'Valid'])"
      ],
      "metadata": {
        "colab": {
          "base_uri": "https://localhost:8080/",
          "height": 447
        },
        "id": "B__z35JwZZA6",
        "outputId": "bab4ec98-3ca7-4660-a723-7aebcf38b72d"
      },
      "execution_count": 105,
      "outputs": [
        {
          "output_type": "execute_result",
          "data": {
            "text/plain": [
              "<matplotlib.legend.Legend at 0x7a8bf3889950>"
            ]
          },
          "metadata": {},
          "execution_count": 105
        },
        {
          "output_type": "display_data",
          "data": {
            "text/plain": [
              "<Figure size 640x480 with 1 Axes>"
            ],
            "image/png": "[encoded data removed]"
          },
          "metadata": {}
        }
      ]
    },
    {
      "cell_type": "markdown",
      "source": [
        "Test:"
      ],
      "metadata": {
        "id": "Q5MknyXIc6rc"
      }
    },
    {
      "cell_type": "code",
      "source": [
        "model = torch.load(\"best_model.pt\", weights_only=False)"
      ],
      "metadata": {
        "id": "4Qo8idELd3FL"
      },
      "execution_count": 106,
      "outputs": []
    },
    {
      "cell_type": "code",
      "source": [
        "mean_acc_test = 0\n",
        "with torch.no_grad():\n",
        "  for x_batch, y_batch in test_loader:\n",
        "    y_hat = model(x_batch)\n",
        "    mean_acc_test += torch.sum(y_hat.argmax(dim=1) == y_batch).item()\n",
        "\n",
        "  mean_acc_test = mean_acc_test/len(test_set)\n",
        "mean_acc_test"
      ],
      "metadata": {
        "colab": {
          "base_uri": "https://localhost:8080/"
        },
        "id": "7H-A90ARZfr0",
        "outputId": "eb2bb8b2-dc2d-4617-f3b4-17e108889e54"
      },
      "execution_count": 107,
      "outputs": [
        {
          "output_type": "execute_result",
          "data": {
            "text/plain": [
              "0.8333333333333334"
            ]
          },
          "metadata": {},
          "execution_count": 107
        }
      ]
    },
    {
      "cell_type": "code",
      "source": [],
      "metadata": {
        "id": "80xVC4B2c9t5"
      },
      "execution_count": null,
      "outputs": []
    }
  ]
}